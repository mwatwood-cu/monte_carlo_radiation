{
 "cells": [
  {
   "cell_type": "markdown",
   "metadata": {},
   "source": [
    "## Part 2 - 2 Stream Solutions\n",
    "\n",
    "In this section of the project the exponential distribution created in the previous section is used to build up a full similation of single cloud layer.\n",
    "\n",
    "### Build up functions\n",
    "\n",
    "Below are the first building blocks for the simulation. These take the exponential distribution and use that to make a full function to pick a random optical depth called, `draw_random_tau`. Next is helper function, `change_direction`, that changes the direction given the current direction. All of this together leads to the function `track_photon` which is the crux of the two stream method. The method here includes the check for absorption, but the first tests will now use this."
   ]
  },
  {
   "cell_type": "code",
   "execution_count": 1,
   "metadata": {},
   "outputs": [],
   "source": [
    "import random\n",
    "import numpy as np\n",
    "import matplotlib.pyplot as plt\n",
    "plt.rc('text', usetex=False)\n",
    "%matplotlib inline\n",
    "\n",
    "TRANSMITTED = 1\n",
    "REFLECTED = 0\n",
    "ABSORBED = 2\n",
    "\n",
    "DOWN = 1\n",
    "UP = -1\n",
    "\n",
    "def exp_dist(x):\n",
    "    return -np.log(1-x)\n",
    "\n",
    "def draw_random_tau():\n",
    "    xi = np.random.random()\n",
    "    tau = exp_dist(xi)\n",
    "    return tau\n",
    "\n",
    "def change_direction(current_dir):\n",
    "    if(current_dir == DOWN):\n",
    "        return UP\n",
    "    else:\n",
    "        return DOWN\n",
    "\n",
    "# Will return 1 if transmitted, 0 if reflected, 2 if absorbed, and -1 for issues\n",
    "def track_photon(tau_bar, g_asym, absorb_wpi):\n",
    "    \n",
    "    #Make first step of a random depth using the exponential distribution\n",
    "    depth = draw_random_tau()\n",
    "    \n",
    "    #Make useful variables\n",
    "    prob_forward = (1+g_asym)/2\n",
    "    direction = DOWN\n",
    "    #print(\"First tau is \"+str(depth))\n",
    "    \n",
    "    #Here is the check to keep running while depth lies within the cloud layer\n",
    "    while(depth>0 and depth<tau_bar):\n",
    "        absorb_random = np.random.random()\n",
    "        if(absorb_random > absorb_wpi):\n",
    "            #print(\"Photon Absorbed!\")\n",
    "            return ABSORBED\n",
    "        dir_random = np.random.random()\n",
    "        if(dir_random > prob_forward):\n",
    "            #print(\"Direction Changed\")\n",
    "            direction = change_direction(direction)\n",
    "        next_tau = draw_random_tau()\n",
    "        depth = depth + direction*next_tau\n",
    "        #print(\"New depth: \"+str(depth))\n",
    "    if(depth>tau_bar):\n",
    "        #print(\"Photon Transmitted!\")\n",
    "        return TRANSMITTED\n",
    "    elif(depth<0):\n",
    "        #print(\"Photon Reflected!\")\n",
    "        return REFLECTED\n",
    "    else:\n",
    "        return -1"
   ]
  },
  {
   "cell_type": "markdown",
   "metadata": {},
   "source": [
    "Now that the fundamentals for one photon tracking is available a full simulation can be run. Here the function is given the parameters of the number of photons to run, `num_photons`, the depth of the cloud, $\\bar{\\tau}$ given as `tau_bar`, the asymmetry parameter g, given as `g_asym`, and finally the single scattering albedo, $\\varpi$, given as `absorb_wpi`.\n",
    "\n",
    "The function below called `full_sim` runs the given number of photons and returns the percentage reflected, transmitted, and absorbed."
   ]
  },
  {
   "cell_type": "code",
   "execution_count": 2,
   "metadata": {},
   "outputs": [],
   "source": [
    "def full_sim(num_photons, tau_bar, g_asym, absorb_wpi): \n",
    "    \n",
    "    #Create counter variables to track photon results\n",
    "    reflect_count = 0\n",
    "    trans_count = 0\n",
    "    absorb_count = 0\n",
    "    \n",
    "    #print(\"Starting sim for tau_bar = \"+str(tau_bar)  +\" and g=\"+str(g_asym) + \" and curly pi = \" + str(absorb_wpi))\n",
    "    \n",
    "    #Run the simulation and increment the appropriate counter depending on the result of a photon tracking.\n",
    "    for i in range(num_photons):\n",
    "        result = track_photon(tau_bar, g_asym, absorb_wpi)\n",
    "        if(result == TRANSMITTED):\n",
    "            trans_count = trans_count+1\n",
    "        elif(result == REFLECTED):\n",
    "            reflect_count = reflect_count+1\n",
    "        elif(result == ABSORBED):\n",
    "            absorb_count = absorb_count +1\n",
    "        else:\n",
    "            print(\"Error in photon tracking\")\n",
    "            \n",
    "    #Return a percentage for each type of result\n",
    "    return [reflect_count/num_photons, trans_count/num_photons, absorb_count/num_photons]"
   ]
  },
  {
   "cell_type": "markdown",
   "metadata": {},
   "source": [
    "Now that all of the functions have been built, the two code blocks below use them to run a simulation. First the taus to be used within different simulations are created as a linear array from 1-100 and then the storage arrays for the reflected, transmitted, and absorbed percentages are also created. The for loop in the first block then runs all of the experiments and records the results in the appropriate arrays. The second block then calculates the exact answers and plots the results. The shown figure was done with 100,000 photons which was chosen as will be discussed in the next subsection. Note that this code is nicely readable and short due to the use of helper and incremental functions above."
   ]
  },
  {
   "cell_type": "code",
   "execution_count": 5,
   "metadata": {},
   "outputs": [],
   "source": [
    "#Setup arrays for storing information\n",
    "num_taus = 50\n",
    "tb = np.linspace(1, 100, num_taus)\n",
    "ref_no_ab = np.zeros(num_taus)\n",
    "tran_no_ab = np.zeros(num_taus)\n",
    "absorb_no_ab = np.zeros(num_taus)\n",
    "\n",
    "#Setup simulation parameter and note with wpi = 1 there is no absorption\n",
    "wpi = 1\n",
    "g = 0.85\n",
    "n_photons = 1000\n",
    "\n",
    "#Run the simulation for all taus created in the tb array.\n",
    "for i in range(num_taus):\n",
    "    results = full_sim(n_photons, tb[i], g, wpi)\n",
    "    ref_no_ab[i] = results[0]\n",
    "    tran_no_ab[i] = results[1]\n",
    "    absorb_no_ab[i] = results[2]"
   ]
  },
  {
   "cell_type": "code",
   "execution_count": 6,
   "metadata": {},
   "outputs": [
    {
     "data": {
      "image/png": "[encoded data removed]",
      "text/plain": [
       "<Figure size 432x288 with 2 Axes>"
      ]
     },
     "metadata": {
      "needs_background": "light"
     },
     "output_type": "display_data"
    }
   ],
   "source": [
    "#Plot the reflected Results and exact solution\n",
    "t_range = np.linspace(1,100, 1000)\n",
    "fig, ax1 = plt.subplots()\n",
    "ax1.plot(tb, ref_no_ab, 'og', label=\"Reflected\")\n",
    "ax1.plot(t_range, t_range/(2/(1-g)+t_range), \"-g\")\n",
    "ax1.set_ylabel('Reflectance', color='g')\n",
    "ax1.tick_params('y', colors='g')\n",
    "\n",
    "ax1.set_xlabel(\"Optical Thickness\")\n",
    "\n",
    "#Plot the Transmitted Results and exact solution\n",
    "ax2 = ax1.twinx()\n",
    "ax2.plot(tb, tran_no_ab, 'ob', label=\"Transmitted\")\n",
    "ax2.plot(t_range, 1/((1-g)*t_range/2+1), \"-b\", label=\"Transmitted True\")\n",
    "ax2.set_ylabel('Transmittance', color='b')\n",
    "ax2.tick_params('y', colors='b')"
   ]
  },
  {
   "cell_type": "markdown",
   "metadata": {},
   "source": [
    "#### Figure 2.1\n",
    "Results of the two-stream simulation with no absorption run with 100,000 photons with the simulation results shown as dots and the true solution a solid line underneath."
   ]
  },
  {
   "cell_type": "markdown",
   "metadata": {},
   "source": [
    "### Determining Convergence Level\n",
    "Below is the code that was used to test for a desired convergence level. Here the square root was added during plotting so is not included in the first code block, and from this the measure of less than 1% error ($10^{-3}$) was chosen as the acceptable error for convergence. This is visible on the graph and occured around the 100,000 photon range. Additionally note that without abosorption, the error from exact will be the same for both transmitted and reflected as the two exact functions are linked and add up to 1, i.e. if one is over by 0.5% then the other must be under by 0.5% and this will give the same RMS for both functions being above or below. This is why only one line is visible in the graph. Both are printed, but they are in fact the same value. "
   ]
  },
  {
   "cell_type": "code",
   "execution_count": 59,
   "metadata": {},
   "outputs": [
    {
     "name": "stdout",
     "output_type": "stream",
     "text": [
      "Done with 1000\n",
      "Done with 5000\n",
      "Done with 10000\n",
      "Done with 50000\n",
      "Done with 100000\n",
      "Done with 500000\n",
      "Done with 1000000\n"
     ]
    }
   ],
   "source": [
    "from sklearn.metrics import mean_squared_error\n",
    "\n",
    "#Set up arrays and values of photons to be run\n",
    "exps = [1000, 5000, 10000, 50000, 100000, 500000]\n",
    "r_error = np.zeros(len(exps))\n",
    "t_error = np.zeros(len(exps))\n",
    "it = 0\n",
    "\n",
    "#Run the simulation for each number of photons and record the mean squared error after each run.\n",
    "for k in exps:\n",
    "    n_photons = k\n",
    "    for i in range(num_taus):\n",
    "        results = full_sim(n_photons, tb[i], g, wpi)\n",
    "        tran_no_ab[i] = results[1]\n",
    "        ref_no_ab[i] = results[0]\n",
    "    t_error[it] = mean_squared_error(tran_no_ab, 1/((1-g)*tb/2+1))\n",
    "    r_error[it] = mean_squared_error(ref_no_ab, tb/(2/(1-g)+tb))\n",
    "    print(\"Done with \" + str(k))\n",
    "    it = it+1                        "
   ]
  },
  {
   "cell_type": "code",
   "execution_count": 60,
   "metadata": {},
   "outputs": [
    {
     "data": {
      "text/plain": [
       "<matplotlib.legend.Legend at 0x27337d16860>"
      ]
     },
     "execution_count": 60,
     "metadata": {},
     "output_type": "execute_result"
    },
    {
     "data": {
      "image/png": "[encoded data removed]",
      "text/plain": [
       "<Figure size 432x288 with 1 Axes>"
      ]
     },
     "metadata": {
      "needs_background": "light"
     },
     "output_type": "display_data"
    }
   ],
   "source": [
    "plt.subplot(211)\n",
    "plt.loglog(exps, np.sqrt(t_error), label=\"Transmitted Error\")\n",
    "\n",
    "plt.subplot(212)\n",
    "plt.loglog(exps, np.sqrt(r_error), label=\"Reflected Error\")\n",
    "plt.legend()\n",
    "plt.xlabel(\"Number of Photons\")\n",
    "plt.ylabel(\"RMS Error\")"
   ]
  },
  {
   "cell_type": "markdown",
   "metadata": {},
   "source": [
    "#### Figure 2.2\n",
    "The error from true of transmitted and reflected of the 2-stream simulation. Error is along the y-axis and number of photons along the x-axis. Note only one line is visible as the errors are exactly the same"
   ]
  },
  {
   "cell_type": "markdown",
   "metadata": {},
   "source": [
    "### 2-Stream Solution Using Absorption\n",
    "The below shows the exact solution for absorption. The simulation code below is the same as was used in the above 2-stream solution, the difference is now the variable `wpi` as the single scattering albedo is set below the value of 1."
   ]
  },
  {
   "cell_type": "markdown",
   "metadata": {},
   "source": [
    "Using true solutions:\n",
    "\\begin{align*}\n",
    "\\text{Transmitted} = F_\\downarrow (\\bar{\\tau}) = \\bar{A} R_\\infty e^{K\\bar{\\tau}} + \\bar{B} e^{-K\\bar{\\tau}} \\\\\\\\\n",
    "\\text{Reflected from Below} = F_\\uparrow (\\tau=0) = \\bar{A} + \\bar{B}  R_\\infty \\\\\\\\\n",
    "R_\\infty = \\frac{\\sqrt{1-\\varpi g}-\\sqrt{1-\\varpi}}{\\sqrt{1-\\varpi g}+\\sqrt{1-\\varpi}} \\\\\\\\\n",
    "K = \\sqrt{(1-\\varpi g)(1-\\varpi)}\n",
    "\\end{align*}\n",
    "With the following defined:\n",
    "\\begin{align*}\n",
    "\\bar{A} = \\frac{F_0 ( R_\\infty - R_g ) e^{-K\\bar{\\tau}}}{R_\\infty ( R_\\infty-R_g ) e^{-K\\bar{\\tau}} - ( 1 - R_g R_\\infty) e^{K\\bar{\\tau}}} \\\\\\\\\n",
    "\\bar{B} = \\frac{-F_0 ( 1 - R_g R_\\infty ) e^{K\\bar{\\tau}}}{R_\\infty ( R_\\infty-R_g ) e^{-K\\bar{\\tau}} - ( 1 - R_g R_\\infty) e^{K\\bar{\\tau}}} \\\\\\\\\\\n",
    "R_g = \\text{Albedo of Surface below the layer}  = 0\n",
    "\\end{align*}"
   ]
  },
  {
   "cell_type": "code",
   "execution_count": 23,
   "metadata": {},
   "outputs": [],
   "source": [
    "#Run the simulation\n",
    "num_taus = 100\n",
    "tb = np.linspace(1, 100, num_taus)\n",
    "ref = np.zeros(num_taus)\n",
    "tran = np.zeros(num_taus)\n",
    "absorb = np.zeros(num_taus)\n",
    "\n",
    "#Set Simulation Parameters\n",
    "wpi = 0.9 #This is the one that define absorption.\n",
    "g = 0.85\n",
    "n_photons = 100000\n",
    "\n",
    "#Run the simulation and record the results\n",
    "for i in range(num_taus):\n",
    "    results = full_sim(n_photons, tb[i], g, wpi)\n",
    "    ref[i] = results[0]\n",
    "    tran[i] = results[1]\n",
    "    absorb[i] = results[2]"
   ]
  },
  {
   "cell_type": "code",
   "execution_count": 24,
   "metadata": {},
   "outputs": [],
   "source": [
    "#Create the exact solutions using the same parameters defined in the above block\n",
    "R_g = 0\n",
    "R_inf = (np.sqrt(1-wpi*g)-np.sqrt(1-wpi))/(np.sqrt(1-wpi*g)+np.sqrt(1-wpi))\n",
    "K = np.sqrt((1-wpi*g)*(1-wpi))\n",
    "A_numerator = (R_inf-R_g)*np.exp(-K*tb)\n",
    "B_numerator = -(1-R_inf*R_g)*np.exp(K*tb)\n",
    "denominator = R_inf*(R_inf-R_g)*np.exp(-K*tb) - (1 - R_inf*R_g)*np.exp(K*tb)\n",
    "A_bar = np.divide(A_numerator, denominator)\n",
    "B_bar = np.divide(B_numerator, denominator)\n",
    "T_true = np.multiply(A_bar, R_inf*np.exp(K*tb))+ np.multiply(B_bar, np.exp(-K*tb))\n",
    "R_true = A_bar+B_bar*R_inf"
   ]
  },
  {
   "cell_type": "code",
   "execution_count": 28,
   "metadata": {},
   "outputs": [
    {
     "data": {
      "text/plain": [
       "<matplotlib.legend.Legend at 0x27336665f60>"
      ]
     },
     "execution_count": 28,
     "metadata": {},
     "output_type": "execute_result"
    },
    {
     "data": {
      "image/png": "[encoded data removed]",
      "text/plain": [
       "<Figure size 432x288 with 1 Axes>"
      ]
     },
     "metadata": {
      "needs_background": "light"
     },
     "output_type": "display_data"
    }
   ],
   "source": [
    "#Plot the results!\n",
    "plt.plot(tb, T_true, 'b-')\n",
    "plt.plot(tb, tran, 'bx', label=\"Transmitted\")\n",
    "plt.plot(tb, R_true, 'g-')\n",
    "plt.plot(tb, ref, 'go', label=\"Reflected\")\n",
    "plt.title(\"Single Scattering Albedo = 0.9\")\n",
    "plt.legend()"
   ]
  },
  {
   "cell_type": "markdown",
   "metadata": {},
   "source": [
    "#### Figure 2.3\n",
    "Results of the two-stream simulation with absorption run with 100,000 photons with the simulation results shown as dots and the true solution a solid line underneath."
   ]
  },
  {
   "cell_type": "markdown",
   "metadata": {},
   "source": [
    "### Determining Convergence - With Absorption"
   ]
  },
  {
   "cell_type": "markdown",
   "metadata": {},
   "source": [
    "Here again, using the metric of 0.1% error, the same values of 100,000-300,000 photons can be used to achieve this level of accuracy. as shown in the plot below. This code is nearly identitcal to the code above, but as the single scattering albedo was set to a value less than one this will now compare the the absorbing true answers calculated above."
   ]
  },
  {
   "cell_type": "code",
   "execution_count": 49,
   "metadata": {},
   "outputs": [
    {
     "name": "stdout",
     "output_type": "stream",
     "text": [
      "Done with 1000\n",
      "Done with 5000\n",
      "Done with 10000\n",
      "Done with 50000\n",
      "Done with 100000\n",
      "Done with 500000\n"
     ]
    }
   ],
   "source": [
    "from sklearn.metrics import mean_squared_error\n",
    "\n",
    "exps = [1000, 5000, 10000, 50000, 100000, 500000, 1000000]\n",
    "t_error_full = np.zeros(7)\n",
    "r_error_full = np.zeros(7)\n",
    "t_error_full[6] = t_error[0]\n",
    "r_error_full[6] = r_error[0]\n",
    "it = 0\n",
    "for k in exps[0:6]:\n",
    "    n_photons = k\n",
    "    for i in range(num_taus):\n",
    "        results = full_sim(n_photons, tb[i], g, wpi)\n",
    "        tran[i] = results[1]\n",
    "        ref[i] = results[0]\n",
    "    t_error_full[it] = mean_squared_error(tran, T_true)\n",
    "    r_error_full[it] = mean_squared_error(ref, R_true)\n",
    "    print(\"Done with \"+str(exps[it]))\n",
    "    it = it+1           \n",
    "    #print(\"R error:\"+str(r_error[it]))"
   ]
  },
  {
   "cell_type": "code",
   "execution_count": 52,
   "metadata": {},
   "outputs": [
    {
     "data": {
      "text/plain": [
       "<matplotlib.legend.Legend at 0x27336878438>"
      ]
     },
     "execution_count": 52,
     "metadata": {},
     "output_type": "execute_result"
    },
    {
     "data": {
      "image/png": "[encoded data removed]",
      "text/plain": [
       "<Figure size 432x288 with 1 Axes>"
      ]
     },
     "metadata": {
      "needs_background": "light"
     },
     "output_type": "display_data"
    }
   ],
   "source": [
    "plt.loglog(exps, np.sqrt(t_error_full), label=\"Transmitted Error\")\n",
    "plt.loglog(exps, np.sqrt(r_error_full), label=\"Reflected Error\")\n",
    "plt.legend()"
   ]
  },
  {
   "cell_type": "markdown",
   "metadata": {},
   "source": [
    "#### Figure 2.4\n",
    "The error from true of transmitted and reflected of the 2-stream simulation including absoption. Error is along the y-axis and number of photons along the x-axis."
   ]
  },
  {
   "cell_type": "code",
   "execution_count": null,
   "metadata": {},
   "outputs": [],
   "source": []
  }
 ],
 "metadata": {
  "kernelspec": {
   "display_name": "Python 3",
   "language": "python",
   "name": "python3"
  },
  "language_info": {
   "codemirror_mode": {
    "name": "ipython",
    "version": 3
   },
   "file_extension": ".py",
   "mimetype": "text/x-python",
   "name": "python",
   "nbconvert_exporter": "python",
   "pygments_lexer": "ipython3",
   "version": "3.7.2"
  }
 },
 "nbformat": 4,
 "nbformat_minor": 2
}
