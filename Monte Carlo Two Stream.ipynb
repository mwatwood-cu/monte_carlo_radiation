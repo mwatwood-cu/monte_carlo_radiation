{
 "cells": [
  {
   "cell_type": "code",
   "execution_count": 3,
   "metadata": {},
   "outputs": [],
   "source": [
    "import random\n",
    "import numpy as np\n",
    "import matplotlib.pyplot as plt\n",
    "plt.rc('text', usetex=False)\n",
    "%matplotlib inline\n",
    "\n",
    "TRANSMITTED = 1\n",
    "REFLECTED = 0\n",
    "ABSORBED = 2\n",
    "\n",
    "DOWN = 1\n",
    "UP = -1\n",
    "\n",
    "def exp_dist(x):\n",
    "    return -np.log(1-x)\n",
    "\n",
    "def draw_random_tau():\n",
    "    xi = np.random.random()\n",
    "    tau = exp_dist(xi)\n",
    "    return tau\n",
    "\n",
    "def change_direction(current_dir):\n",
    "    if(current_dir == DOWN):\n",
    "        return UP\n",
    "    else:\n",
    "        return DOWN\n",
    "\n",
    "# Will return 1 if transmitted, 0 if reflected, 2 if absorbed, and -1 for issues\n",
    "def track_photon(tau_bar, g_asym, absorb_wpi):\n",
    "    depth = draw_random_tau()\n",
    "    prob_forward = (1+g_asym)/2\n",
    "    direction = DOWN\n",
    "    #print(\"First tau is \"+str(depth))\n",
    "    while(depth>0 and depth<tau_bar):\n",
    "        absorb_random = np.random.random()\n",
    "        if(absorb_random > absorb_wpi):\n",
    "            #print(\"Photon Absorbed!\")\n",
    "            return ABSORBED\n",
    "        dir_random = np.random.random()\n",
    "        if(dir_random > prob_forward):\n",
    "            #print(\"Direction Changed\")\n",
    "            direction = change_direction(direction)\n",
    "        next_tau = draw_random_tau()\n",
    "        depth = depth + direction*next_tau\n",
    "        #print(\"New depth: \"+str(depth))\n",
    "    if(depth>tau_bar):\n",
    "        #print(\"Photon Transmitted!\")\n",
    "        return TRANSMITTED\n",
    "    elif(depth<0):\n",
    "        #print(\"Photon Reflected!\")\n",
    "        return REFLECTED\n",
    "    else:\n",
    "        return -1"
   ]
  },
  {
   "cell_type": "code",
   "execution_count": 4,
   "metadata": {},
   "outputs": [],
   "source": [
    "def full_sim(num_photons, tau_bar, g_asym, absorb_wpi): \n",
    "    \n",
    "    reflect_count = 0\n",
    "    trans_count = 0\n",
    "    absorb_count = 0\n",
    "    \n",
    "    #print(\"Starting sim for tau_bar = \"+str(tau_bar)  +\" and g=\"+str(g_asym) + \" and curly pi = \" + str(absorb_wpi))\n",
    "    \n",
    "    for i in range(num_photons):\n",
    "        result = track_photon(tau_bar, g_asym, absorb_wpi)\n",
    "        if(result == TRANSMITTED):\n",
    "            trans_count = trans_count+1\n",
    "        elif(result == REFLECTED):\n",
    "            reflect_count = reflect_count+1\n",
    "        elif(result == ABSORBED):\n",
    "            absorb_count = absorb_count +1\n",
    "        else:\n",
    "            print(\"Error in photon tracking\")\n",
    "    return [reflect_count/num_photons, trans_count/num_photons, absorb_count/num_photons]"
   ]
  },
  {
   "cell_type": "code",
   "execution_count": 11,
   "metadata": {},
   "outputs": [],
   "source": [
    "num_taus = 50\n",
    "tb = np.linspace(1, 100, num_taus)\n",
    "ref = np.zeros(num_taus)\n",
    "tran = np.zeros(num_taus)\n",
    "absorb = np.zeros(num_taus)\n",
    "\n",
    "wpi = 1\n",
    "g = 0.85\n",
    "n_photons = 1000\n",
    "\n",
    "for i in range(num_taus):\n",
    "    results = full_sim(n_photons, tb[i], g, wpi)\n",
    "    ref[i] = results[0]\n",
    "    tran[i] = results[1]\n",
    "    absorb[i] = results[2]"
   ]
  },
  {
   "cell_type": "code",
   "execution_count": 12,
   "metadata": {},
   "outputs": [
    {
     "data": {
      "image/png": "[encoded data removed]",
      "text/plain": [
       "<Figure size 432x288 with 2 Axes>"
      ]
     },
     "metadata": {},
     "output_type": "display_data"
    }
   ],
   "source": [
    "t_range = np.linspace(1,100, 1000)\n",
    "fig, ax1 = plt.subplots()\n",
    "ax1.plot(tb, ref, 'og', label=\"Reflected\")\n",
    "ax1.plot(t_range, t_range/(2/(1-g)+t_range), \"-g\")\n",
    "ax1.set_ylabel('Reflectance', color='g')\n",
    "ax1.tick_params('y', colors='g')\n",
    "\n",
    "ax1.set_xlabel(\"Optical Thickness\")\n",
    "\n",
    "ax2 = ax1.twinx()\n",
    "ax2.plot(tb, tran, 'ob', label=\"Transmitted\")\n",
    "ax2.plot(t_range, 1/((1-g)*t_range/2+1), \"-b\", label=\"Transmitted True\")\n",
    "ax2.set_ylabel('Transmittance', color='b')\n",
    "ax2.tick_params('y', colors='b')"
   ]
  },
  {
   "cell_type": "markdown",
   "metadata": {},
   "source": [
    "## Using Absorbtion"
   ]
  },
  {
   "cell_type": "markdown",
   "metadata": {},
   "source": [
    "Using true solutions:\n",
    "\\begin{align*}\n",
    "\\text{Transmitted} = F_\\downarrow (\\bar{\\tau}) = \\bar{A} R_\\infty e^{K\\bar{\\tau}} + \\bar{B} e^{-K\\bar{\\tau}} \\\\\\\\\n",
    "\\text{Reflected from Below} = F_\\uparrow (\\tau=0) = \\bar{A} + \\bar{B}  R_\\infty \\\\\\\\\n",
    "R_\\infty = \\frac{\\sqrt{1-\\varpi g}-\\sqrt{1-\\varpi}}{\\sqrt{1-\\varpi g}+\\sqrt{1-\\varpi}} \\\\\\\\\n",
    "K = \\sqrt{(1-\\varpi g)(1-\\varpi)}\n",
    "\\end{align*}\n",
    "With the following defined:\n",
    "\\begin{align*}\n",
    "\\bar{A} = \\frac{F_0 ( R_\\infty - R_g ) e^{-K\\bar{\\tau}}}{R_\\infty ( R_\\infty-R_g ) e^{-K\\bar{\\tau}} - ( 1 - R_g R_\\infty) e^{K\\bar{\\tau}}} \\\\\\\\\n",
    "\\bar{B} = \\frac{-F_0 ( 1 - R_g R_\\infty ) e^{K\\bar{\\tau}}}{R_\\infty ( R_\\infty-R_g ) e^{-K\\bar{\\tau}} - ( 1 - R_g R_\\infty) e^{K\\bar{\\tau}}} \\\\\\\\\\\n",
    "R_g = \\text{Albedo of Surface below the layer}  = 0\n",
    "\\end{align*}"
   ]
  },
  {
   "cell_type": "code",
   "execution_count": 5,
   "metadata": {},
   "outputs": [],
   "source": [
    "#Run the simulation\n",
    "num_taus = 100\n",
    "tb = np.linspace(1, 100, num_taus)\n",
    "ref = np.zeros(num_taus)\n",
    "tran = np.zeros(num_taus)\n",
    "absorb = np.zeros(num_taus)\n",
    "\n",
    "wpi = 0.9\n",
    "g = 0.85\n",
    "n_photons = 1000\n",
    "\n",
    "for i in range(num_taus):\n",
    "    results = full_sim(n_photons, tb[i], g, wpi)\n",
    "    ref[i] = results[0]\n",
    "    tran[i] = results[1]\n",
    "    absorb[i] = results[2]"
   ]
  },
  {
   "cell_type": "code",
   "execution_count": 6,
   "metadata": {},
   "outputs": [],
   "source": [
    "R_g = 0\n",
    "R_inf = (np.sqrt(1-wpi*g)-np.sqrt(1-wpi))/(np.sqrt(1-wpi*g)+np.sqrt(1-wpi))\n",
    "K = np.sqrt((1-wpi*g)*(1-wpi))\n",
    "A_numerator = (R_inf-R_g)*np.exp(-K*tb)\n",
    "B_numerator = -(1-R_inf*R_g)*np.exp(K*tb)\n",
    "denominator = R_inf*(R_inf-R_g)*np.exp(-K*tb) - (1 - R_inf*R_g)*np.exp(K*tb)\n",
    "A_bar = np.divide(A_numerator, denominator)\n",
    "B_bar = np.divide(B_numerator, denominator)\n",
    "T_true = np.multiply(A_bar, R_inf*np.exp(K*tb))+ np.multiply(B_bar, np.exp(-K*tb))\n",
    "R_true = A_bar+B_bar*R_inf"
   ]
  },
  {
   "cell_type": "code",
   "execution_count": 7,
   "metadata": {},
   "outputs": [
    {
     "data": {
      "text/plain": [
       "<matplotlib.legend.Legend at 0x2089b0a7b38>"
      ]
     },
     "execution_count": 7,
     "metadata": {},
     "output_type": "execute_result"
    },
    {
     "data": {
      "image/png": "[encoded data removed]",
      "text/plain": [
       "<Figure size 432x288 with 1 Axes>"
      ]
     },
     "metadata": {
      "needs_background": "light"
     },
     "output_type": "display_data"
    }
   ],
   "source": [
    "plt.plot(tb, T_true, 'b-')\n",
    "plt.plot(tb, tran, 'bx', label=\"Transmitted\")\n",
    "plt.plot(tb, R_true, 'g-')\n",
    "plt.plot(tb, ref, 'go', label=\"Reflected\")\n",
    "plt.title(\"Single Scattering Albedo = 0.9\")\n",
    "plt.legend()"
   ]
  },
  {
   "cell_type": "code",
   "execution_count": null,
   "metadata": {},
   "outputs": [],
   "source": []
  }
 ],
 "metadata": {
  "kernelspec": {
   "display_name": "Python 3",
   "language": "python",
   "name": "python3"
  },
  "language_info": {
   "codemirror_mode": {
    "name": "ipython",
    "version": 3
   },
   "file_extension": ".py",
   "mimetype": "text/x-python",
   "name": "python",
   "nbconvert_exporter": "python",
   "pygments_lexer": "ipython3",
   "version": "3.7.2"
  }
 },
 "nbformat": 4,
 "nbformat_minor": 2
}
